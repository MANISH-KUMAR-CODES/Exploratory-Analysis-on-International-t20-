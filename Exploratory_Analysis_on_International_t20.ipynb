{
  "nbformat": 4,
  "nbformat_minor": 0,
  "metadata": {
    "colab": {
      "name": "Exploratory Analysis on International t20 ",
      "provenance": [],
      "collapsed_sections": [],
      "mount_file_id": "1FZLwfaYHYmun3e95HetHz3yO_Skw_t3X",
      "authorship_tag": "ABX9TyOy1QXbEgFlEHJ4Z4eVIjqj",
      "include_colab_link": true
    },
    "kernelspec": {
      "name": "python3",
      "display_name": "Python 3"
    },
    "language_info": {
      "name": "python"
    }
  },
  "cells": [
    {
      "cell_type": "markdown",
      "metadata": {
        "id": "view-in-github",
        "colab_type": "text"
      },
      "source": [
        "<a href=\"https://colab.research.google.com/github/MANISH-KUMAR-CODES/Exploratory-Analysis-on-International-t20-/blob/main/Exploratory_Analysis_on_International_t20.ipynb\" target=\"_parent\"><img src=\"https://colab.research.google.com/assets/colab-badge.svg\" alt=\"Open In Colab\"/></a>"
      ]
    },
    {
      "cell_type": "markdown",
      "source": [
        "##<B>Analysis ON International t20"
      ],
      "metadata": {
        "id": "bFS_BXqVD2aH"
      }
    },
    {
      "cell_type": "markdown",
      "source": [
        "###Lets us first import all the necessary libraries of python"
      ],
      "metadata": {
        "id": "Y43b-NWwETkp"
      }
    },
    {
      "cell_type": "code",
      "source": [
        "import pandas as pd\n",
        "import numpy as np\n",
        "import matplotlib.pyplot as plt\n",
        "import seaborn as sns"
      ],
      "metadata": {
        "id": "SR6vPTapEhQC"
      },
      "execution_count": null,
      "outputs": []
    },
    {
      "cell_type": "code",
      "source": [
        "International_T20_Data = pd.read_csv('/content/drive/MyDrive/Copy of International_T20_Data.csv')"
      ],
      "metadata": {
        "id": "2mZIQxEyEFxC"
      },
      "execution_count": null,
      "outputs": []
    },
    {
      "cell_type": "code",
      "source": [
        "#lets check whats inside our data\n",
        "International_T20_Data"
      ],
      "metadata": {
        "id": "MT6M_IOuHxnE",
        "colab": {
          "base_uri": "https://localhost:8080/",
          "height": 1000
        },
        "outputId": "db9adce0-8c0d-4152-8b53-f3db237b030b"
      },
      "execution_count": null,
      "outputs": [
        {
          "output_type": "execute_result",
          "data": {
            "text/plain": [
              "                                                innings        dates gender  \\\n",
              "0     [{'1st innings': {'team': 'Australia', 'delive...  2017- 2- 17   male   \n",
              "1     [{'1st innings': {'team': 'Australia', 'delive...  2017- 2- 19   male   \n",
              "2     [{'1st innings': {'team': 'Australia', 'delive...  2017- 2- 22   male   \n",
              "3     [{'1st innings': {'team': 'Hong Kong', 'delive...   2016- 9- 5   male   \n",
              "4     [{'1st innings': {'team': 'Zimbabwe', 'deliver...  2016- 6- 18   male   \n",
              "...                                                 ...          ...    ...   \n",
              "1412  [{'1st innings': {'team': 'Sri Lanka', 'delive...   2016- 3- 4   male   \n",
              "1413  [{'1st innings': {'team': 'Bangladesh', 'deliv...   2016- 3- 6   male   \n",
              "1414  [{'1st innings': {'team': 'Netherlands', 'deli...   2016- 2- 3   male   \n",
              "1415  [{'1st innings': {'team': 'Australia', 'delive...   2016- 9- 6   male   \n",
              "1416  [{'1st innings': {'team': 'Sri Lanka', 'delive...   2016- 9- 9   male   \n",
              "\n",
              "     match_type  outcome_by_wickets outcome_winner  overs  \\\n",
              "0           T20                 5.0      Sri Lanka     20   \n",
              "1           T20                 2.0      Sri Lanka     20   \n",
              "2           T20                 0.0      Australia     20   \n",
              "3           T20                 0.0      Hong Kong     20   \n",
              "4           T20                 0.0       Zimbabwe     20   \n",
              "...         ...                 ...            ...    ...   \n",
              "1412        T20                 6.0       Pakistan     20   \n",
              "1413        T20                 8.0          India     20   \n",
              "1414        T20                 0.0    Netherlands     20   \n",
              "1415        T20                 0.0      Australia     20   \n",
              "1416        T20                 4.0      Australia     20   \n",
              "\n",
              "           player_of_match                                    teams  \\\n",
              "0        ['DAS Gunaratne']               ['Australia', 'Sri Lanka']   \n",
              "1        ['DAS Gunaratne']               ['Australia', 'Sri Lanka']   \n",
              "2              ['A Zampa']               ['Australia', 'Sri Lanka']   \n",
              "3                        0                 ['Ireland', 'Hong Kong']   \n",
              "4         ['E Chigumbura']                    ['Zimbabwe', 'India']   \n",
              "...                    ...                                      ...   \n",
              "1412        ['Umar Akmal']                ['Pakistan', 'Sri Lanka']   \n",
              "1413          ['S Dhawan']                  ['Bangladesh', 'India']   \n",
              "1414  ['Mudassar Bukhari']  ['United Arab Emirates', 'Netherlands']   \n",
              "1415        ['GJ Maxwell']               ['Sri Lanka', 'Australia']   \n",
              "1416        ['GJ Maxwell']               ['Sri Lanka', 'Australia']   \n",
              "\n",
              "     toss_decision           toss_winner  \\\n",
              "0            field             Sri Lanka   \n",
              "1            field             Sri Lanka   \n",
              "2            field             Sri Lanka   \n",
              "3              bat             Hong Kong   \n",
              "4            field                 India   \n",
              "...            ...                   ...   \n",
              "1412         field              Pakistan   \n",
              "1413         field                 India   \n",
              "1414         field  United Arab Emirates   \n",
              "1415         field             Sri Lanka   \n",
              "1416           bat             Sri Lanka   \n",
              "\n",
              "                                     umpires  \\\n",
              "0                 ['MD Martell', 'P Wilson']   \n",
              "1                  ['SD Fry', 'SJ Nogajski']   \n",
              "2                 ['MD Martell', 'P Wilson']   \n",
              "3                    ['R Black', 'AJ Neill']   \n",
              "4               ['TJ Matibiri', 'RB Tiffin']   \n",
              "...                                      ...   \n",
              "1412        ['AK Chaudhary', 'Enamul Haque']   \n",
              "1413    ['RSA Palliyaguruge', 'Shozab Raza']   \n",
              "1414          ['CK Nandan', 'Sarika Prasad']   \n",
              "1415      ['REJ Martinesz', 'RR Wimalasiri']   \n",
              "1416  ['REJ Martinesz', 'RSA Palliyaguruge']   \n",
              "\n",
              "                                        venue         city  outcome_by_runs  \\\n",
              "0                    Melbourne Cricket Ground            0              0.0   \n",
              "1              Simonds Stadium, South Geelong     Victoria              0.0   \n",
              "2                               Adelaide Oval            0             41.0   \n",
              "3           Bready Cricket Club, Magheramason  Londonderry             40.0   \n",
              "4                          Harare Sports Club            0              2.0   \n",
              "...                                       ...          ...              ...   \n",
              "1412            Shere Bangla National Stadium       Mirpur              0.0   \n",
              "1413            Shere Bangla National Stadium       Mirpur              0.0   \n",
              "1414                              ICC Academy        Dubai             84.0   \n",
              "1415  Pallekele International Cricket Stadium            0             85.0   \n",
              "1416                      R Premadasa Stadium      Colombo              0.0   \n",
              "\n",
              "      match_type_number  neutral_venue  \n",
              "0                   0.0            0.0  \n",
              "1                   0.0            0.0  \n",
              "2                   0.0            0.0  \n",
              "3                   0.0            0.0  \n",
              "4                   0.0            0.0  \n",
              "...                 ...            ...  \n",
              "1412                0.0            1.0  \n",
              "1413                0.0            0.0  \n",
              "1414                0.0            0.0  \n",
              "1415                0.0            0.0  \n",
              "1416                0.0            0.0  \n",
              "\n",
              "[1417 rows x 17 columns]"
            ],
            "text/html": [
              "\n",
              "  <div id=\"df-85d82ade-a1f6-4d25-9088-d7a932462191\">\n",
              "    <div class=\"colab-df-container\">\n",
              "      <div>\n",
              "<style scoped>\n",
              "    .dataframe tbody tr th:only-of-type {\n",
              "        vertical-align: middle;\n",
              "    }\n",
              "\n",
              "    .dataframe tbody tr th {\n",
              "        vertical-align: top;\n",
              "    }\n",
              "\n",
              "    .dataframe thead th {\n",
              "        text-align: right;\n",
              "    }\n",
              "</style>\n",
              "<table border=\"1\" class=\"dataframe\">\n",
              "  <thead>\n",
              "    <tr style=\"text-align: right;\">\n",
              "      <th></th>\n",
              "      <th>innings</th>\n",
              "      <th>dates</th>\n",
              "      <th>gender</th>\n",
              "      <th>match_type</th>\n",
              "      <th>outcome_by_wickets</th>\n",
              "      <th>outcome_winner</th>\n",
              "      <th>overs</th>\n",
              "      <th>player_of_match</th>\n",
              "      <th>teams</th>\n",
              "      <th>toss_decision</th>\n",
              "      <th>toss_winner</th>\n",
              "      <th>umpires</th>\n",
              "      <th>venue</th>\n",
              "      <th>city</th>\n",
              "      <th>outcome_by_runs</th>\n",
              "      <th>match_type_number</th>\n",
              "      <th>neutral_venue</th>\n",
              "    </tr>\n",
              "  </thead>\n",
              "  <tbody>\n",
              "    <tr>\n",
              "      <th>0</th>\n",
              "      <td>[{'1st innings': {'team': 'Australia', 'delive...</td>\n",
              "      <td>2017- 2- 17</td>\n",
              "      <td>male</td>\n",
              "      <td>T20</td>\n",
              "      <td>5.0</td>\n",
              "      <td>Sri Lanka</td>\n",
              "      <td>20</td>\n",
              "      <td>['DAS Gunaratne']</td>\n",
              "      <td>['Australia', 'Sri Lanka']</td>\n",
              "      <td>field</td>\n",
              "      <td>Sri Lanka</td>\n",
              "      <td>['MD Martell', 'P Wilson']</td>\n",
              "      <td>Melbourne Cricket Ground</td>\n",
              "      <td>0</td>\n",
              "      <td>0.0</td>\n",
              "      <td>0.0</td>\n",
              "      <td>0.0</td>\n",
              "    </tr>\n",
              "    <tr>\n",
              "      <th>1</th>\n",
              "      <td>[{'1st innings': {'team': 'Australia', 'delive...</td>\n",
              "      <td>2017- 2- 19</td>\n",
              "      <td>male</td>\n",
              "      <td>T20</td>\n",
              "      <td>2.0</td>\n",
              "      <td>Sri Lanka</td>\n",
              "      <td>20</td>\n",
              "      <td>['DAS Gunaratne']</td>\n",
              "      <td>['Australia', 'Sri Lanka']</td>\n",
              "      <td>field</td>\n",
              "      <td>Sri Lanka</td>\n",
              "      <td>['SD Fry', 'SJ Nogajski']</td>\n",
              "      <td>Simonds Stadium, South Geelong</td>\n",
              "      <td>Victoria</td>\n",
              "      <td>0.0</td>\n",
              "      <td>0.0</td>\n",
              "      <td>0.0</td>\n",
              "    </tr>\n",
              "    <tr>\n",
              "      <th>2</th>\n",
              "      <td>[{'1st innings': {'team': 'Australia', 'delive...</td>\n",
              "      <td>2017- 2- 22</td>\n",
              "      <td>male</td>\n",
              "      <td>T20</td>\n",
              "      <td>0.0</td>\n",
              "      <td>Australia</td>\n",
              "      <td>20</td>\n",
              "      <td>['A Zampa']</td>\n",
              "      <td>['Australia', 'Sri Lanka']</td>\n",
              "      <td>field</td>\n",
              "      <td>Sri Lanka</td>\n",
              "      <td>['MD Martell', 'P Wilson']</td>\n",
              "      <td>Adelaide Oval</td>\n",
              "      <td>0</td>\n",
              "      <td>41.0</td>\n",
              "      <td>0.0</td>\n",
              "      <td>0.0</td>\n",
              "    </tr>\n",
              "    <tr>\n",
              "      <th>3</th>\n",
              "      <td>[{'1st innings': {'team': 'Hong Kong', 'delive...</td>\n",
              "      <td>2016- 9- 5</td>\n",
              "      <td>male</td>\n",
              "      <td>T20</td>\n",
              "      <td>0.0</td>\n",
              "      <td>Hong Kong</td>\n",
              "      <td>20</td>\n",
              "      <td>0</td>\n",
              "      <td>['Ireland', 'Hong Kong']</td>\n",
              "      <td>bat</td>\n",
              "      <td>Hong Kong</td>\n",
              "      <td>['R Black', 'AJ Neill']</td>\n",
              "      <td>Bready Cricket Club, Magheramason</td>\n",
              "      <td>Londonderry</td>\n",
              "      <td>40.0</td>\n",
              "      <td>0.0</td>\n",
              "      <td>0.0</td>\n",
              "    </tr>\n",
              "    <tr>\n",
              "      <th>4</th>\n",
              "      <td>[{'1st innings': {'team': 'Zimbabwe', 'deliver...</td>\n",
              "      <td>2016- 6- 18</td>\n",
              "      <td>male</td>\n",
              "      <td>T20</td>\n",
              "      <td>0.0</td>\n",
              "      <td>Zimbabwe</td>\n",
              "      <td>20</td>\n",
              "      <td>['E Chigumbura']</td>\n",
              "      <td>['Zimbabwe', 'India']</td>\n",
              "      <td>field</td>\n",
              "      <td>India</td>\n",
              "      <td>['TJ Matibiri', 'RB Tiffin']</td>\n",
              "      <td>Harare Sports Club</td>\n",
              "      <td>0</td>\n",
              "      <td>2.0</td>\n",
              "      <td>0.0</td>\n",
              "      <td>0.0</td>\n",
              "    </tr>\n",
              "    <tr>\n",
              "      <th>...</th>\n",
              "      <td>...</td>\n",
              "      <td>...</td>\n",
              "      <td>...</td>\n",
              "      <td>...</td>\n",
              "      <td>...</td>\n",
              "      <td>...</td>\n",
              "      <td>...</td>\n",
              "      <td>...</td>\n",
              "      <td>...</td>\n",
              "      <td>...</td>\n",
              "      <td>...</td>\n",
              "      <td>...</td>\n",
              "      <td>...</td>\n",
              "      <td>...</td>\n",
              "      <td>...</td>\n",
              "      <td>...</td>\n",
              "      <td>...</td>\n",
              "    </tr>\n",
              "    <tr>\n",
              "      <th>1412</th>\n",
              "      <td>[{'1st innings': {'team': 'Sri Lanka', 'delive...</td>\n",
              "      <td>2016- 3- 4</td>\n",
              "      <td>male</td>\n",
              "      <td>T20</td>\n",
              "      <td>6.0</td>\n",
              "      <td>Pakistan</td>\n",
              "      <td>20</td>\n",
              "      <td>['Umar Akmal']</td>\n",
              "      <td>['Pakistan', 'Sri Lanka']</td>\n",
              "      <td>field</td>\n",
              "      <td>Pakistan</td>\n",
              "      <td>['AK Chaudhary', 'Enamul Haque']</td>\n",
              "      <td>Shere Bangla National Stadium</td>\n",
              "      <td>Mirpur</td>\n",
              "      <td>0.0</td>\n",
              "      <td>0.0</td>\n",
              "      <td>1.0</td>\n",
              "    </tr>\n",
              "    <tr>\n",
              "      <th>1413</th>\n",
              "      <td>[{'1st innings': {'team': 'Bangladesh', 'deliv...</td>\n",
              "      <td>2016- 3- 6</td>\n",
              "      <td>male</td>\n",
              "      <td>T20</td>\n",
              "      <td>8.0</td>\n",
              "      <td>India</td>\n",
              "      <td>20</td>\n",
              "      <td>['S Dhawan']</td>\n",
              "      <td>['Bangladesh', 'India']</td>\n",
              "      <td>field</td>\n",
              "      <td>India</td>\n",
              "      <td>['RSA Palliyaguruge', 'Shozab Raza']</td>\n",
              "      <td>Shere Bangla National Stadium</td>\n",
              "      <td>Mirpur</td>\n",
              "      <td>0.0</td>\n",
              "      <td>0.0</td>\n",
              "      <td>0.0</td>\n",
              "    </tr>\n",
              "    <tr>\n",
              "      <th>1414</th>\n",
              "      <td>[{'1st innings': {'team': 'Netherlands', 'deli...</td>\n",
              "      <td>2016- 2- 3</td>\n",
              "      <td>male</td>\n",
              "      <td>T20</td>\n",
              "      <td>0.0</td>\n",
              "      <td>Netherlands</td>\n",
              "      <td>20</td>\n",
              "      <td>['Mudassar Bukhari']</td>\n",
              "      <td>['United Arab Emirates', 'Netherlands']</td>\n",
              "      <td>field</td>\n",
              "      <td>United Arab Emirates</td>\n",
              "      <td>['CK Nandan', 'Sarika Prasad']</td>\n",
              "      <td>ICC Academy</td>\n",
              "      <td>Dubai</td>\n",
              "      <td>84.0</td>\n",
              "      <td>0.0</td>\n",
              "      <td>0.0</td>\n",
              "    </tr>\n",
              "    <tr>\n",
              "      <th>1415</th>\n",
              "      <td>[{'1st innings': {'team': 'Australia', 'delive...</td>\n",
              "      <td>2016- 9- 6</td>\n",
              "      <td>male</td>\n",
              "      <td>T20</td>\n",
              "      <td>0.0</td>\n",
              "      <td>Australia</td>\n",
              "      <td>20</td>\n",
              "      <td>['GJ Maxwell']</td>\n",
              "      <td>['Sri Lanka', 'Australia']</td>\n",
              "      <td>field</td>\n",
              "      <td>Sri Lanka</td>\n",
              "      <td>['REJ Martinesz', 'RR Wimalasiri']</td>\n",
              "      <td>Pallekele International Cricket Stadium</td>\n",
              "      <td>0</td>\n",
              "      <td>85.0</td>\n",
              "      <td>0.0</td>\n",
              "      <td>0.0</td>\n",
              "    </tr>\n",
              "    <tr>\n",
              "      <th>1416</th>\n",
              "      <td>[{'1st innings': {'team': 'Sri Lanka', 'delive...</td>\n",
              "      <td>2016- 9- 9</td>\n",
              "      <td>male</td>\n",
              "      <td>T20</td>\n",
              "      <td>4.0</td>\n",
              "      <td>Australia</td>\n",
              "      <td>20</td>\n",
              "      <td>['GJ Maxwell']</td>\n",
              "      <td>['Sri Lanka', 'Australia']</td>\n",
              "      <td>bat</td>\n",
              "      <td>Sri Lanka</td>\n",
              "      <td>['REJ Martinesz', 'RSA Palliyaguruge']</td>\n",
              "      <td>R Premadasa Stadium</td>\n",
              "      <td>Colombo</td>\n",
              "      <td>0.0</td>\n",
              "      <td>0.0</td>\n",
              "      <td>0.0</td>\n",
              "    </tr>\n",
              "  </tbody>\n",
              "</table>\n",
              "<p>1417 rows × 17 columns</p>\n",
              "</div>\n",
              "      <button class=\"colab-df-convert\" onclick=\"convertToInteractive('df-85d82ade-a1f6-4d25-9088-d7a932462191')\"\n",
              "              title=\"Convert this dataframe to an interactive table.\"\n",
              "              style=\"display:none;\">\n",
              "        \n",
              "  <svg xmlns=\"http://www.w3.org/2000/svg\" height=\"24px\"viewBox=\"0 0 24 24\"\n",
              "       width=\"24px\">\n",
              "    <path d=\"M0 0h24v24H0V0z\" fill=\"none\"/>\n",
              "    <path d=\"M18.56 5.44l.94 2.06.94-2.06 2.06-.94-2.06-.94-.94-2.06-.94 2.06-2.06.94zm-11 1L8.5 8.5l.94-2.06 2.06-.94-2.06-.94L8.5 2.5l-.94 2.06-2.06.94zm10 10l.94 2.06.94-2.06 2.06-.94-2.06-.94-.94-2.06-.94 2.06-2.06.94z\"/><path d=\"M17.41 7.96l-1.37-1.37c-.4-.4-.92-.59-1.43-.59-.52 0-1.04.2-1.43.59L10.3 9.45l-7.72 7.72c-.78.78-.78 2.05 0 2.83L4 21.41c.39.39.9.59 1.41.59.51 0 1.02-.2 1.41-.59l7.78-7.78 2.81-2.81c.8-.78.8-2.07 0-2.86zM5.41 20L4 18.59l7.72-7.72 1.47 1.35L5.41 20z\"/>\n",
              "  </svg>\n",
              "      </button>\n",
              "      \n",
              "  <style>\n",
              "    .colab-df-container {\n",
              "      display:flex;\n",
              "      flex-wrap:wrap;\n",
              "      gap: 12px;\n",
              "    }\n",
              "\n",
              "    .colab-df-convert {\n",
              "      background-color: #E8F0FE;\n",
              "      border: none;\n",
              "      border-radius: 50%;\n",
              "      cursor: pointer;\n",
              "      display: none;\n",
              "      fill: #1967D2;\n",
              "      height: 32px;\n",
              "      padding: 0 0 0 0;\n",
              "      width: 32px;\n",
              "    }\n",
              "\n",
              "    .colab-df-convert:hover {\n",
              "      background-color: #E2EBFA;\n",
              "      box-shadow: 0px 1px 2px rgba(60, 64, 67, 0.3), 0px 1px 3px 1px rgba(60, 64, 67, 0.15);\n",
              "      fill: #174EA6;\n",
              "    }\n",
              "\n",
              "    [theme=dark] .colab-df-convert {\n",
              "      background-color: #3B4455;\n",
              "      fill: #D2E3FC;\n",
              "    }\n",
              "\n",
              "    [theme=dark] .colab-df-convert:hover {\n",
              "      background-color: #434B5C;\n",
              "      box-shadow: 0px 1px 3px 1px rgba(0, 0, 0, 0.15);\n",
              "      filter: drop-shadow(0px 1px 2px rgba(0, 0, 0, 0.3));\n",
              "      fill: #FFFFFF;\n",
              "    }\n",
              "  </style>\n",
              "\n",
              "      <script>\n",
              "        const buttonEl =\n",
              "          document.querySelector('#df-85d82ade-a1f6-4d25-9088-d7a932462191 button.colab-df-convert');\n",
              "        buttonEl.style.display =\n",
              "          google.colab.kernel.accessAllowed ? 'block' : 'none';\n",
              "\n",
              "        async function convertToInteractive(key) {\n",
              "          const element = document.querySelector('#df-85d82ade-a1f6-4d25-9088-d7a932462191');\n",
              "          const dataTable =\n",
              "            await google.colab.kernel.invokeFunction('convertToInteractive',\n",
              "                                                     [key], {});\n",
              "          if (!dataTable) return;\n",
              "\n",
              "          const docLinkHtml = 'Like what you see? Visit the ' +\n",
              "            '<a target=\"_blank\" href=https://colab.research.google.com/notebooks/data_table.ipynb>data table notebook</a>'\n",
              "            + ' to learn more about interactive tables.';\n",
              "          element.innerHTML = '';\n",
              "          dataTable['output_type'] = 'display_data';\n",
              "          await google.colab.output.renderOutput(dataTable, element);\n",
              "          const docLink = document.createElement('div');\n",
              "          docLink.innerHTML = docLinkHtml;\n",
              "          element.appendChild(docLink);\n",
              "        }\n",
              "      </script>\n",
              "    </div>\n",
              "  </div>\n",
              "  "
            ]
          },
          "metadata": {},
          "execution_count": 49
        }
      ]
    },
    {
      "cell_type": "code",
      "source": [
        "#top 5 rows\n",
        "International_T20_Data.head(5)"
      ],
      "metadata": {
        "id": "qpmZW1zXIF7A"
      },
      "execution_count": null,
      "outputs": []
    },
    {
      "cell_type": "code",
      "source": [
        "#last 5 rows\n",
        "International_T20_Data.tail(5)"
      ],
      "metadata": {
        "id": "0sxQrhT3Ihds"
      },
      "execution_count": null,
      "outputs": []
    },
    {
      "cell_type": "code",
      "source": [
        "#Checking info\n",
        "International_T20_Data.info()"
      ],
      "metadata": {
        "id": "MlKX5115Isqg"
      },
      "execution_count": null,
      "outputs": []
    },
    {
      "cell_type": "code",
      "source": [
        "#checking descriptive summary\n",
        "International_T20_Data.describe().T"
      ],
      "metadata": {
        "id": "S4M1M4S6IwPA"
      },
      "execution_count": null,
      "outputs": []
    },
    {
      "cell_type": "code",
      "source": [
        "#lets us define a function to replace column names\n",
        "def replace_name(dataframe):\n",
        "    dataframe.astype(str)\n",
        "    dataframe_new_column=[]\n",
        "    for i in dataframe.columns:\n",
        "       if  'meta.' in i:\n",
        "          i = i.replace('meta.','')\n",
        "          dataframe_new_column.append(i)\n",
        "       else: \n",
        "             'info.' in i\n",
        "             i = i.replace('info.','')\n",
        "             dataframe_new_column.append(i)\n",
        "    return dataframe_new_column"
      ],
      "metadata": {
        "id": "68n83WukJcdH"
      },
      "execution_count": null,
      "outputs": []
    },
    {
      "cell_type": "code",
      "source": [
        "new_columns = replace_name(International_T20_Data)\n",
        "new_columns"
      ],
      "metadata": {
        "id": "wua5Ao3-NjIE"
      },
      "execution_count": null,
      "outputs": []
    },
    {
      "cell_type": "code",
      "source": [
        "International_T20_Data.columns = new_columns\n",
        "International_T20_Data.head()"
      ],
      "metadata": {
        "id": "DwPr9IVyPwfs"
      },
      "execution_count": null,
      "outputs": []
    },
    {
      "cell_type": "code",
      "source": [
        "International_T20_Data.isnull().sum()"
      ],
      "metadata": {
        "id": "oTngyFHgTjYr"
      },
      "execution_count": null,
      "outputs": []
    },
    {
      "cell_type": "markdown",
      "source": [
        "###As we can see some columns have 1415 null values out of 1417 entries.It will be better if we drop all these columns."
      ],
      "metadata": {
        "id": "tN8PoHxaT7Ev"
      }
    },
    {
      "cell_type": "code",
      "source": [
        "International_T20_Data=International_T20_Data.drop(['outcome.bowl_out','bowl_out','supersubs.South Africa','supersubs.New Zealand','outcome.eliminator','outcome.method','outcome.result'], axis = 1)"
      ],
      "metadata": {
        "id": "J7S6OuRLVpip"
      },
      "execution_count": null,
      "outputs": []
    },
    {
      "cell_type": "code",
      "source": [
        "#lets again check our nulls again\n",
        "International_T20_Data.isnull().sum()"
      ],
      "metadata": {
        "id": "0Yhnsic4XLj8"
      },
      "execution_count": null,
      "outputs": []
    },
    {
      "cell_type": "code",
      "source": [
        "#lets fill all the null valeues with 0\n",
        "International_T20_Data=International_T20_Data.fillna(0)"
      ],
      "metadata": {
        "id": "w0FyNo1vaNKy"
      },
      "execution_count": null,
      "outputs": []
    },
    {
      "cell_type": "code",
      "source": [
        "#lets again check our nulls again\n",
        "International_T20_Data.isnull().sum()"
      ],
      "metadata": {
        "id": "ndEaUfE5aiye"
      },
      "execution_count": null,
      "outputs": []
    },
    {
      "cell_type": "markdown",
      "source": [
        "###We also see that there are columns like dataversion ,revision and created which is of no use for our analysis , lets drops these columns from our dataframe"
      ],
      "metadata": {
        "id": "3Vxt6jJypFfR"
      }
    },
    {
      "cell_type": "code",
      "source": [
        "International_T20_Data=International_T20_Data.drop(['data_version','created','revision'],axis =1)\n"
      ],
      "metadata": {
        "id": "W365eYtYnQIx"
      },
      "execution_count": null,
      "outputs": []
    },
    {
      "cell_type": "code",
      "source": [
        "International_T20_Data.columns.unique()"
      ],
      "metadata": {
        "id": "Uug4YpUVqE2o"
      },
      "execution_count": null,
      "outputs": []
    },
    {
      "cell_type": "markdown",
      "source": [
        "##Our date column is not in correct format .we need to change that"
      ],
      "metadata": {
        "id": "7xPLYH48qVC-"
      }
    },
    {
      "cell_type": "code",
      "source": [
        "def modifying_date(dataframe):\n",
        "    dates=[]\n",
        "    for i in dataframe.dates:\n",
        "        i = i.replace('[datetime.date(','').replace(')]','').replace(',','-').replace(\"['\",'').replace(\"']\",'')\n",
        "        dates.append(i)\n",
        "    return dates    "
      ],
      "metadata": {
        "id": "vYCkEGQYu0pq"
      },
      "execution_count": null,
      "outputs": []
    },
    {
      "cell_type": "code",
      "source": [
        "dates = modifying_date(International_T20_Data)"
      ],
      "metadata": {
        "id": "czI6UHBZvjkb"
      },
      "execution_count": null,
      "outputs": []
    },
    {
      "cell_type": "code",
      "source": [
        "International_T20_Data['dates']=dates\n",
        "International_T20_Data['dates'].astype(str)"
      ],
      "metadata": {
        "id": "UTxgwmnrqh0U"
      },
      "execution_count": null,
      "outputs": []
    },
    {
      "cell_type": "code",
      "source": [
        "#checking our dataframe again\n",
        "International_T20_Data.head()"
      ],
      "metadata": {
        "id": "52irTA76-Rs8"
      },
      "execution_count": null,
      "outputs": []
    },
    {
      "cell_type": "markdown",
      "source": [
        "##lets us fix some columns names by replacing '.' from them with '_'"
      ],
      "metadata": {
        "id": "2MH8CfgJ7fPj"
      }
    },
    {
      "cell_type": "code",
      "source": [
        "International_T20_Data.rename(columns = {'outcome.by.wickets':'outcome_by_wickets', 'outcome.winner':'outcome_winner','toss.decision':'toss_decision','toss.winner':'toss_winner','outcome.by.runs':'outcome_by_runs'}, inplace = True)"
      ],
      "metadata": {
        "id": "usobdpRz-JJ9"
      },
      "execution_count": null,
      "outputs": []
    },
    {
      "cell_type": "markdown",
      "source": [
        "##Lets us check the top winning teams"
      ],
      "metadata": {
        "id": "gv4TNJgMyXvk"
      }
    },
    {
      "cell_type": "code",
      "source": [
        "topwinning_teams = International_T20_Data['outcome_winner'].value_counts().drop(0,axis = 0)\n",
        "plt.figure(figsize=(14,15))                              #setting figure size\n",
        "plt.xlabel('Teams',size=18)                              \n",
        "plt.ylabel('Count of wins',size = 18)\n",
        "plt.title('Top Winning Teams',size=25)\n",
        "sns.set_theme(style=\"whitegrid\")\n",
        "#using barplot\n",
        "sns.barplot(topwinning_teams.index,topwinning_teams.values)\n",
        "plt.xticks(rotation = 90)"
      ],
      "metadata": {
        "colab": {
          "base_uri": "https://localhost:8080/",
          "height": 1000
        },
        "id": "knJwrhU97MCw",
        "outputId": "9b4a3f1f-5cb3-4c1e-9c9b-d5ae618db882"
      },
      "execution_count": null,
      "outputs": [
        {
          "output_type": "stream",
          "name": "stderr",
          "text": [
            "/usr/local/lib/python3.7/dist-packages/seaborn/_decorators.py:43: FutureWarning: Pass the following variables as keyword args: x, y. From version 0.12, the only valid positional argument will be `data`, and passing other arguments without an explicit keyword will result in an error or misinterpretation.\n",
            "  FutureWarning\n"
          ]
        },
        {
          "output_type": "execute_result",
          "data": {
            "text/plain": [
              "(array([ 0,  1,  2,  3,  4,  5,  6,  7,  8,  9, 10, 11, 12, 13, 14, 15, 16,\n",
              "        17, 18, 19, 20, 21, 22, 23, 24, 25, 26, 27, 28, 29, 30, 31, 32, 33,\n",
              "        34, 35, 36, 37, 38, 39, 40, 41, 42, 43, 44, 45, 46, 47, 48, 49, 50,\n",
              "        51, 52, 53, 54, 55]), <a list of 56 Text major ticklabel objects>)"
            ]
          },
          "metadata": {},
          "execution_count": 51
        },
        {
          "output_type": "display_data",
          "data": {
            "text/plain": [
              "<Figure size 1008x1080 with 1 Axes>"
            ],
            "image/png": "[encoded data removed]"
          },
          "metadata": {}
        }
      ]
    },
    {
      "cell_type": "markdown",
      "source": [
        "##lets check winning teams based on their field decesion"
      ],
      "metadata": {
        "id": "wa61iUfkivrl"
      }
    },
    {
      "cell_type": "code",
      "source": [
        "winning_teams_field_decision = International_T20_Data.groupby('toss_decision')['outcome_winner'].value_counts()"
      ],
      "metadata": {
        "id": "sDNrrb8mjGM4"
      },
      "execution_count": null,
      "outputs": []
    },
    {
      "cell_type": "code",
      "source": [
        "print(winning_teams_field_decision)"
      ],
      "metadata": {
        "colab": {
          "base_uri": "https://localhost:8080/"
        },
        "id": "xMJLgYymrpUu",
        "outputId": "2df67fca-2f17-4c64-c558-e0e6042d5518"
      },
      "execution_count": null,
      "outputs": [
        {
          "output_type": "stream",
          "name": "stdout",
          "text": [
            "toss_decision  outcome_winner\n",
            "bat            Australia         72\n",
            "               England           67\n",
            "               Pakistan          67\n",
            "               South Africa      42\n",
            "               West Indies       42\n",
            "                                 ..\n",
            "field          Maldives           1\n",
            "               Mozambique         1\n",
            "               Philippines        1\n",
            "               Sierra Leone       1\n",
            "               Uganda             1\n",
            "Name: outcome_winner, Length: 96, dtype: int64\n"
          ]
        }
      ]
    },
    {
      "cell_type": "code",
      "source": [
        "plt.figure(figsize=(20,20))                              #setting figure size\n",
        "plt.xlabel('Teams',size=18)                              \n",
        "plt.ylabel('Count of wins',size = 18)\n",
        "plt.title('Top Winning Teams on basis of field decision',size=25)\n",
        "sns.set_theme(style=\"whitegrid\")\n",
        "#using barplot\n",
        "sns.countplot(x='toss_decision',hue ='outcome_winner',data = International_T20_Data,palette= 'Set2')\n",
        "plt.legend(International_T20_Data.outcome_winner, loc=\"Top right\", title=\"outcome_winner\",fontsize = \"xx-small\");\n"
      ],
      "metadata": {
        "colab": {
          "base_uri": "https://localhost:8080/",
          "height": 1000
        },
        "id": "-bKUi9r6kPuU",
        "outputId": "c8a1ba3f-3542-45ab-bbeb-d9eae6328ea6"
      },
      "execution_count": null,
      "outputs": [
        {
          "output_type": "stream",
          "name": "stderr",
          "text": [
            "/usr/local/lib/python3.7/dist-packages/ipykernel_launcher.py:8: MatplotlibDeprecationWarning: Unrecognized location 'Top right'. Falling back on 'best'; valid locations are\n",
            "\tbest\n",
            "\tupper right\n",
            "\tupper left\n",
            "\tlower left\n",
            "\tlower right\n",
            "\tright\n",
            "\tcenter left\n",
            "\tcenter right\n",
            "\tlower center\n",
            "\tupper center\n",
            "\tcenter\n",
            "This will raise an exception in 3.3.\n",
            "  \n"
          ]
        },
        {
          "output_type": "display_data",
          "data": {
            "text/plain": [
              "<Figure size 1440x1440 with 1 Axes>"
            ],
            "image/png": "[encoded data removed]"
          },
          "metadata": {}
        }
      ]
    }
  ]
}