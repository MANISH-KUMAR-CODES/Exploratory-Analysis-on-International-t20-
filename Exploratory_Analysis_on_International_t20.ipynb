{
  "nbformat": 4,
  "nbformat_minor": 0,
  "metadata": {
    "colab": {
      "name": "Exploratory Analysis on International t20 ",
      "provenance": [],
      "collapsed_sections": [],
      "mount_file_id": "1FZLwfaYHYmun3e95HetHz3yO_Skw_t3X",
      "authorship_tag": "ABX9TyMSTzFm2rUQgmnQHVAPok8H",
      "include_colab_link": true
    },
    "kernelspec": {
      "name": "python3",
      "display_name": "Python 3"
    },
    "language_info": {
      "name": "python"
    }
  },
  "cells": [
    {
      "cell_type": "markdown",
      "metadata": {
        "id": "view-in-github",
        "colab_type": "text"
      },
      "source": [
        "<a href=\"https://colab.research.google.com/github/MANISH-KUMAR-CODES/Exploratory-Analysis-on-International-t20-/blob/main/Exploratory_Analysis_on_International_t20.ipynb\" target=\"_parent\"><img src=\"https://colab.research.google.com/assets/colab-badge.svg\" alt=\"Open In Colab\"/></a>"
      ]
    },
    {
      "cell_type": "markdown",
      "source": [
        "##<B>Analysis ON International t20"
      ],
      "metadata": {
        "id": "bFS_BXqVD2aH"
      }
    },
    {
      "cell_type": "markdown",
      "source": [
        "###Lets us first import all the necessary libraries of python"
      ],
      "metadata": {
        "id": "Y43b-NWwETkp"
      }
    },
    {
      "cell_type": "code",
      "source": [
        "import pandas as pd\n",
        "import numpy as np\n",
        "import matplotlib.pyplot as plt\n",
        "import seaborn as sns"
      ],
      "metadata": {
        "id": "SR6vPTapEhQC"
      },
      "execution_count": null,
      "outputs": []
    },
    {
      "cell_type": "code",
      "source": [
        "International_T20_Data = pd.read_csv('/content/drive/MyDrive/Copy of International_T20_Data.csv')"
      ],
      "metadata": {
        "id": "2mZIQxEyEFxC"
      },
      "execution_count": null,
      "outputs": []
    },
    {
      "cell_type": "code",
      "source": [
        "#lets check whats inside our data\n",
        "International_T20_Data"
      ],
      "metadata": {
        "id": "MT6M_IOuHxnE"
      },
      "execution_count": null,
      "outputs": []
    },
    {
      "cell_type": "code",
      "source": [
        "#top 5 rows\n",
        "International_T20_Data.head(5)"
      ],
      "metadata": {
        "id": "qpmZW1zXIF7A"
      },
      "execution_count": null,
      "outputs": []
    },
    {
      "cell_type": "code",
      "source": [
        "#last 5 rows\n",
        "International_T20_Data.tail(5)"
      ],
      "metadata": {
        "id": "0sxQrhT3Ihds"
      },
      "execution_count": null,
      "outputs": []
    },
    {
      "cell_type": "code",
      "source": [
        "#Checking info\n",
        "International_T20_Data.info()"
      ],
      "metadata": {
        "id": "MlKX5115Isqg"
      },
      "execution_count": null,
      "outputs": []
    },
    {
      "cell_type": "code",
      "source": [
        "#checking descriptive summary\n",
        "International_T20_Data.describe().T"
      ],
      "metadata": {
        "id": "S4M1M4S6IwPA"
      },
      "execution_count": null,
      "outputs": []
    },
    {
      "cell_type": "code",
      "source": [
        "#lets us define a function to replace column names\n",
        "def replace_name(dataframe):\n",
        "    dataframe.astype(str)\n",
        "    dataframe_new_column=[]\n",
        "    for i in dataframe.columns:\n",
        "       if  'meta.' in i:\n",
        "          i = i.replace('meta.','')\n",
        "          dataframe_new_column.append(i)\n",
        "       else: \n",
        "             'info.' in i\n",
        "             i = i.replace('info.','')\n",
        "             dataframe_new_column.append(i)\n",
        "    return dataframe_new_column"
      ],
      "metadata": {
        "id": "68n83WukJcdH"
      },
      "execution_count": null,
      "outputs": []
    },
    {
      "cell_type": "code",
      "source": [
        "new_columns = replace_name(International_T20_Data)\n",
        "new_columns"
      ],
      "metadata": {
        "id": "wua5Ao3-NjIE"
      },
      "execution_count": null,
      "outputs": []
    },
    {
      "cell_type": "code",
      "source": [
        "International_T20_Data.columns = new_columns\n",
        "International_T20_Data.head()"
      ],
      "metadata": {
        "id": "DwPr9IVyPwfs"
      },
      "execution_count": null,
      "outputs": []
    },
    {
      "cell_type": "code",
      "source": [
        "International_T20_Data.isnull().sum()"
      ],
      "metadata": {
        "id": "oTngyFHgTjYr"
      },
      "execution_count": null,
      "outputs": []
    },
    {
      "cell_type": "markdown",
      "source": [
        "###As we can see some columns have 1415 null values out of 1417 entries.It will be better if we drop all these columns."
      ],
      "metadata": {
        "id": "tN8PoHxaT7Ev"
      }
    },
    {
      "cell_type": "code",
      "source": [
        "International_T20_Data=International_T20_Data.drop(['outcome.bowl_out','bowl_out','supersubs.South Africa','supersubs.New Zealand','outcome.eliminator','outcome.method','outcome.result'], axis = 1)"
      ],
      "metadata": {
        "id": "J7S6OuRLVpip"
      },
      "execution_count": null,
      "outputs": []
    },
    {
      "cell_type": "code",
      "source": [
        "#lets again check our nulls again\n",
        "International_T20_Data.isnull().sum()"
      ],
      "metadata": {
        "id": "0Yhnsic4XLj8"
      },
      "execution_count": null,
      "outputs": []
    },
    {
      "cell_type": "code",
      "source": [
        "#lets fill all the null valeues with 0\n",
        "International_T20_Data=International_T20_Data.fillna(0)"
      ],
      "metadata": {
        "id": "w0FyNo1vaNKy"
      },
      "execution_count": null,
      "outputs": []
    },
    {
      "cell_type": "code",
      "source": [
        "#lets again check our nulls again\n",
        "International_T20_Data.isnull().sum()"
      ],
      "metadata": {
        "id": "ndEaUfE5aiye"
      },
      "execution_count": null,
      "outputs": []
    },
    {
      "cell_type": "markdown",
      "source": [
        "###We also see that there are columns like dataversion ,revision and created which is of no use for our analysis , lets drops these columns from our dataframe"
      ],
      "metadata": {
        "id": "3Vxt6jJypFfR"
      }
    },
    {
      "cell_type": "code",
      "source": [
        "International_T20_Data=International_T20_Data.drop(['data_version','created','revision'],axis =1)\n"
      ],
      "metadata": {
        "id": "W365eYtYnQIx"
      },
      "execution_count": null,
      "outputs": []
    },
    {
      "cell_type": "code",
      "source": [
        "International_T20_Data.columns.unique()"
      ],
      "metadata": {
        "id": "Uug4YpUVqE2o"
      },
      "execution_count": null,
      "outputs": []
    },
    {
      "cell_type": "markdown",
      "source": [
        "##Our date column is not in correct format .we need to change that"
      ],
      "metadata": {
        "id": "7xPLYH48qVC-"
      }
    },
    {
      "cell_type": "code",
      "source": [
        "def modifying_date(dataframe):\n",
        "    dates=[]\n",
        "    for i in dataframe.dates:\n",
        "        i = i.replace('[datetime.date(','').replace(')]','').replace(',','-').replace(\"['\",'').replace(\"']\",'')\n",
        "        dates.append(i)\n",
        "    return dates    "
      ],
      "metadata": {
        "id": "vYCkEGQYu0pq"
      },
      "execution_count": null,
      "outputs": []
    },
    {
      "cell_type": "code",
      "source": [
        "dates = modifying_date(International_T20_Data)"
      ],
      "metadata": {
        "id": "czI6UHBZvjkb"
      },
      "execution_count": null,
      "outputs": []
    },
    {
      "cell_type": "code",
      "source": [
        "International_T20_Data['dates']=dates\n",
        "International_T20_Data['dates'].astype(str)"
      ],
      "metadata": {
        "id": "UTxgwmnrqh0U"
      },
      "execution_count": null,
      "outputs": []
    },
    {
      "cell_type": "code",
      "source": [
        "#checking our dataframe again\n",
        "International_T20_Data.head()"
      ],
      "metadata": {
        "id": "52irTA76-Rs8"
      },
      "execution_count": null,
      "outputs": []
    },
    {
      "cell_type": "markdown",
      "source": [
        "##lets us fix some columns names by replacing '.' from them with '_'"
      ],
      "metadata": {
        "id": "2MH8CfgJ7fPj"
      }
    },
    {
      "cell_type": "code",
      "source": [
        "International_T20_Data.rename(columns = {'outcome.by.wickets':'outcome_by_wickets', 'outcome.winner':'outcome_winner','toss.decision':'toss_decision','toss.winner':'toss_winner','outcome.by.runs':'outcome_by_runs'}, inplace = True)"
      ],
      "metadata": {
        "id": "usobdpRz-JJ9"
      },
      "execution_count": null,
      "outputs": []
    },
    {
      "cell_type": "markdown",
      "source": [
        "##Lets us check the top winning teams"
      ],
      "metadata": {
        "id": "gv4TNJgMyXvk"
      }
    },
    {
      "cell_type": "code",
      "source": [
        "topwinning_teams = International_T20_Data['outcome_winner'].value_counts().drop(0,axis = 0)\n",
        "plt.figure(figsize=(14,15))                              #setting figure size\n",
        "plt.xlabel('Teams',size=12)                              \n",
        "plt.ylabel('Count of wins',size = 12)\n",
        "sns.set_theme(style=\"whitegrid\")\n",
        "#using barplot\n",
        "sns.barplot(topwinning_teams.index,topwinning_teams.values)\n",
        "plt.xticks(rotation = 90)"
      ],
      "metadata": {
        "colab": {
          "base_uri": "https://localhost:8080/",
          "height": 1000
        },
        "id": "knJwrhU97MCw",
        "outputId": "b0ae9372-ffa5-4507-92b9-5a4143823f0c"
      },
      "execution_count": 47,
      "outputs": [
        {
          "output_type": "stream",
          "name": "stderr",
          "text": [
            "/usr/local/lib/python3.7/dist-packages/seaborn/_decorators.py:43: FutureWarning: Pass the following variables as keyword args: x, y. From version 0.12, the only valid positional argument will be `data`, and passing other arguments without an explicit keyword will result in an error or misinterpretation.\n",
            "  FutureWarning\n"
          ]
        },
        {
          "output_type": "execute_result",
          "data": {
            "text/plain": [
              "(array([ 0,  1,  2,  3,  4,  5,  6,  7,  8,  9, 10, 11, 12, 13, 14, 15, 16,\n",
              "        17, 18, 19, 20, 21, 22, 23, 24, 25, 26, 27, 28, 29, 30, 31, 32, 33,\n",
              "        34, 35, 36, 37, 38, 39, 40, 41, 42, 43, 44, 45, 46, 47, 48, 49, 50,\n",
              "        51, 52, 53, 54, 55]), <a list of 56 Text major ticklabel objects>)"
            ]
          },
          "metadata": {},
          "execution_count": 47
        },
        {
          "output_type": "display_data",
          "data": {
            "text/plain": [
              "<Figure size 1008x1080 with 1 Axes>"
            ],
            "image/png": "[encoded data removed]"
          },
          "metadata": {}
        }
      ]
    }
  ]
}